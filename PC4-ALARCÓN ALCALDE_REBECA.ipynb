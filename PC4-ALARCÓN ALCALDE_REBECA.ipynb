{
 "cells": [
  {
   "cell_type": "code",
   "execution_count": 4,
   "metadata": {
    "collapsed": false
   },
   "outputs": [
   ],
   "source": [
    "import pandas as pd\n",
    "import numpy as np\n",
    "from sklearn import datasets, linear_model\n",
    "from sklearn.metrics import mean_squared_error, r2_score\n",
    "import matplotlib.pyplot as plt\n",
    "training = pd.read_csv(\"basketball.csv\")"
   ]
  },
  {
   "cell_type": "code",
   "execution_count": 0,
   "metadata": {
    "collapsed": false
   },
   "outputs": [
   ],
   "source": [
   ]
  },
  {
   "cell_type": "code",
   "execution_count": 0,
   "metadata": {
    "collapsed": false
   },
   "outputs": [
   ],
   "source": [
   ]
  },
  {
   "cell_type": "code",
   "execution_count": 2,
   "metadata": {
    "collapsed": false
   },
   "outputs": [
   ],
   "source": [
    "Basket = pd.read_csv('basketball.csv')"
   ]
  },
  {
   "cell_type": "code",
   "execution_count": 4,
   "metadata": {
    "collapsed": false
   },
   "outputs": [
    {
     "data": {
      "text/html": [
       "<div>\n",
       "<style scoped>\n",
       "    .dataframe tbody tr th:only-of-type {\n",
       "        vertical-align: middle;\n",
       "    }\n",
       "\n",
       "    .dataframe tbody tr th {\n",
       "        vertical-align: top;\n",
       "    }\n",
       "\n",
       "    .dataframe thead th {\n",
       "        text-align: right;\n",
       "    }\n",
       "</style>\n",
       "<table border=\"1\" class=\"dataframe\">\n",
       "  <thead>\n",
       "    <tr style=\"text-align: right;\">\n",
       "      <th></th>\n",
       "      <th>height</th>\n",
       "      <th>weight</th>\n",
       "      <th>success_field_goals</th>\n",
       "      <th>success_free_throws</th>\n",
       "      <th>avg_points_scored</th>\n",
       "    </tr>\n",
       "  </thead>\n",
       "  <tbody>\n",
       "    <tr>\n",
       "      <th>0</th>\n",
       "      <td>6.8</td>\n",
       "      <td>225</td>\n",
       "      <td>0.442</td>\n",
       "      <td>0.672</td>\n",
       "      <td>9.2</td>\n",
       "    </tr>\n",
       "    <tr>\n",
       "      <th>1</th>\n",
       "      <td>6.3</td>\n",
       "      <td>180</td>\n",
       "      <td>0.435</td>\n",
       "      <td>0.797</td>\n",
       "      <td>11.7</td>\n",
       "    </tr>\n",
       "    <tr>\n",
       "      <th>2</th>\n",
       "      <td>6.4</td>\n",
       "      <td>190</td>\n",
       "      <td>0.456</td>\n",
       "      <td>0.761</td>\n",
       "      <td>15.8</td>\n",
       "    </tr>\n",
       "    <tr>\n",
       "      <th>3</th>\n",
       "      <td>6.2</td>\n",
       "      <td>180</td>\n",
       "      <td>0.416</td>\n",
       "      <td>0.651</td>\n",
       "      <td>8.6</td>\n",
       "    </tr>\n",
       "    <tr>\n",
       "      <th>4</th>\n",
       "      <td>6.9</td>\n",
       "      <td>205</td>\n",
       "      <td>0.449</td>\n",
       "      <td>0.900</td>\n",
       "      <td>23.2</td>\n",
       "    </tr>\n",
       "  </tbody>\n",
       "</table>\n",
       "</div>"
      ],
      "text/plain": [
       "   height  weight  success_field_goals  success_free_throws  avg_points_scored\n",
       "0     6.8     225                0.442                0.672                9.2\n",
       "1     6.3     180                0.435                0.797               11.7\n",
       "2     6.4     190                0.456                0.761               15.8\n",
       "3     6.2     180                0.416                0.651                8.6\n",
       "4     6.9     205                0.449                0.900               23.2"
      ]
     },
     "execution_count": 4,
     "metadata": {
     },
     "output_type": "execute_result"
    }
   ],
   "source": [
    "Basket.head(5)"
   ]
  },
  {
   "cell_type": "code",
   "execution_count": 5,
   "metadata": {
    "collapsed": false
   },
   "outputs": [
    {
     "ename": "SyntaxError",
     "evalue": "invalid syntax (<ipython-input-5-95f7b3988f22>, line 1)",
     "output_type": "error",
     "traceback": [
      "\u001b[0;36m  File \u001b[0;32m\"<ipython-input-5-95f7b3988f22>\"\u001b[0;36m, line \u001b[0;32m1\u001b[0m\n\u001b[0;31m    Basket = Basket.rename(columns={'height':'Altura','weight':'success_field_goals','objetivos_campo_metas':'success_free_throws','tiros_libres_metas':'avg_points_scored':'puntos_promedio_anotado'})\u001b[0m\n\u001b[0m                                                                                                                                                                           ^\u001b[0m\n\u001b[0;31mSyntaxError\u001b[0m\u001b[0;31m:\u001b[0m invalid syntax\n"
     ]
    }
   ],
   "source": [
   ]
  },
  {
   "cell_type": "code",
   "execution_count": 6,
   "metadata": {
    "collapsed": false
   },
   "outputs": [
   ],
   "source": [
    "maximo = Basket['avg_points_scored'].max()"
   ]
  },
  {
   "cell_type": "code",
   "execution_count": 7,
   "metadata": {
    "collapsed": false
   },
   "outputs": [
    {
     "data": {
      "text/plain": [
       "27.4"
      ]
     },
     "execution_count": 7,
     "metadata": {
     },
     "output_type": "execute_result"
    }
   ],
   "source": [
    "maximo"
   ]
  },
  {
   "cell_type": "code",
   "execution_count": 8,
   "metadata": {
    "collapsed": false
   },
   "outputs": [
   ],
   "source": [
    "minimo = Basket['avg_points_scored'].min()"
   ]
  },
  {
   "cell_type": "code",
   "execution_count": 9,
   "metadata": {
    "collapsed": false
   },
   "outputs": [
    {
     "data": {
      "text/plain": [
       "2.8"
      ]
     },
     "execution_count": 9,
     "metadata": {
     },
     "output_type": "execute_result"
    }
   ],
   "source": [
    "minimo"
   ]
  },
  {
   "cell_type": "code",
   "execution_count": 11,
   "metadata": {
    "collapsed": false
   },
   "outputs": [
    {
     "data": {
      "text/html": [
       "<div>\n",
       "<style scoped>\n",
       "    .dataframe tbody tr th:only-of-type {\n",
       "        vertical-align: middle;\n",
       "    }\n",
       "\n",
       "    .dataframe tbody tr th {\n",
       "        vertical-align: top;\n",
       "    }\n",
       "\n",
       "    .dataframe thead th {\n",
       "        text-align: right;\n",
       "    }\n",
       "</style>\n",
       "<table border=\"1\" class=\"dataframe\">\n",
       "  <thead>\n",
       "    <tr style=\"text-align: right;\">\n",
       "      <th></th>\n",
       "      <th>height</th>\n",
       "      <th>weight</th>\n",
       "      <th>success_field_goals</th>\n",
       "      <th>success_free_throws</th>\n",
       "      <th>avg_points_scored</th>\n",
       "    </tr>\n",
       "  </thead>\n",
       "  <tbody>\n",
       "    <tr>\n",
       "      <th>count</th>\n",
       "      <td>54.000000</td>\n",
       "      <td>54.000000</td>\n",
       "      <td>54.000000</td>\n",
       "      <td>54.000000</td>\n",
       "      <td>54.000000</td>\n",
       "    </tr>\n",
       "    <tr>\n",
       "      <th>mean</th>\n",
       "      <td>6.587037</td>\n",
       "      <td>209.907407</td>\n",
       "      <td>0.449111</td>\n",
       "      <td>0.741852</td>\n",
       "      <td>11.790741</td>\n",
       "    </tr>\n",
       "    <tr>\n",
       "      <th>std</th>\n",
       "      <td>0.458894</td>\n",
       "      <td>30.265036</td>\n",
       "      <td>0.056551</td>\n",
       "      <td>0.100146</td>\n",
       "      <td>5.899257</td>\n",
       "    </tr>\n",
       "    <tr>\n",
       "      <th>min</th>\n",
       "      <td>5.700000</td>\n",
       "      <td>105.000000</td>\n",
       "      <td>0.291000</td>\n",
       "      <td>0.244000</td>\n",
       "      <td>2.800000</td>\n",
       "    </tr>\n",
       "    <tr>\n",
       "      <th>25%</th>\n",
       "      <td>6.225000</td>\n",
       "      <td>185.000000</td>\n",
       "      <td>0.415250</td>\n",
       "      <td>0.713000</td>\n",
       "      <td>8.150000</td>\n",
       "    </tr>\n",
       "    <tr>\n",
       "      <th>50%</th>\n",
       "      <td>6.650000</td>\n",
       "      <td>212.500000</td>\n",
       "      <td>0.443500</td>\n",
       "      <td>0.753500</td>\n",
       "      <td>10.750000</td>\n",
       "    </tr>\n",
       "    <tr>\n",
       "      <th>75%</th>\n",
       "      <td>6.900000</td>\n",
       "      <td>235.000000</td>\n",
       "      <td>0.483500</td>\n",
       "      <td>0.795250</td>\n",
       "      <td>13.600000</td>\n",
       "    </tr>\n",
       "    <tr>\n",
       "      <th>max</th>\n",
       "      <td>7.600000</td>\n",
       "      <td>263.000000</td>\n",
       "      <td>0.599000</td>\n",
       "      <td>0.900000</td>\n",
       "      <td>27.400000</td>\n",
       "    </tr>\n",
       "  </tbody>\n",
       "</table>\n",
       "</div>"
      ],
      "text/plain": [
       "          height      weight  success_field_goals  success_free_throws  \\\n",
       "count  54.000000   54.000000            54.000000            54.000000   \n",
       "mean    6.587037  209.907407             0.449111             0.741852   \n",
       "std     0.458894   30.265036             0.056551             0.100146   \n",
       "min     5.700000  105.000000             0.291000             0.244000   \n",
       "25%     6.225000  185.000000             0.415250             0.713000   \n",
       "50%     6.650000  212.500000             0.443500             0.753500   \n",
       "75%     6.900000  235.000000             0.483500             0.795250   \n",
       "max     7.600000  263.000000             0.599000             0.900000   \n",
       "\n",
       "       avg_points_scored  \n",
       "count          54.000000  \n",
       "mean           11.790741  \n",
       "std             5.899257  \n",
       "min             2.800000  \n",
       "25%             8.150000  \n",
       "50%            10.750000  \n",
       "75%            13.600000  \n",
       "max            27.400000  "
      ]
     },
     "execution_count": 11,
     "metadata": {
     },
     "output_type": "execute_result"
    }
   ],
   "source": [
    "Basket.describe()"
   ]
  },
  {
   "cell_type": "code",
   "execution_count": 12,
   "metadata": {
    "collapsed": false
   },
   "outputs": [
   ],
   "source": [
    "%matplotlib inline"
   ]
  },
  {
   "cell_type": "code",
   "execution_count": 13,
   "metadata": {
    "collapsed": false
   },
   "outputs": [
    {
     "data": {
      "text/plain": [
       "[<matplotlib.lines.Line2D at 0x7fba1f496c50>]"
      ]
     },
     "execution_count": 13,
     "metadata": {
     },
     "output_type": "execute_result"
    },
    {
     "data": {
      "image/png": "[encoded data removed]",
      "text/plain": [
       "<Figure size 432x288 with 1 Axes>"
      ]
     },
     "execution_count": 13,
     "metadata": {
      "image/png": {
       "height": 248,
       "width": 369
      }
     },
     "output_type": "execute_result"
    }
   ],
   "source": [
    "plt.plot(Basket['height'],Basket['avg_points_scored'],'o')"
   ]
  },
  {
   "cell_type": "code",
   "execution_count": 14,
   "metadata": {
    "collapsed": false
   },
   "outputs": [
   ],
   "source": [
    "y= Basket.avg_points_scored\n",
    "x= Basket.height"
   ]
  },
  {
   "cell_type": "code",
   "execution_count": 15,
   "metadata": {
    "collapsed": false
   },
   "outputs": [
   ],
   "source": [
    "m, b = np.polyfit(x,y,1)"
   ]
  },
  {
   "cell_type": "code",
   "execution_count": 16,
   "metadata": {
    "collapsed": false
   },
   "outputs": [
    {
     "data": {
      "text/plain": [
       "-0.8858119431216707"
      ]
     },
     "execution_count": 16,
     "metadata": {
     },
     "output_type": "execute_result"
    }
   ],
   "source": [
    "m"
   ]
  },
  {
   "cell_type": "code",
   "execution_count": 17,
   "metadata": {
    "collapsed": false
   },
   "outputs": [
    {
     "name": "stdout",
     "output_type": "stream",
     "text": [
      "El Porcentaje de tiros de campo exitosos -0.89.\n",
      "El Porcentaje de  objetivos de campo de éxito17.63.\n",
      "El Mejor ajuste de Regresión Simple es -0.89x 17.63.+ \n"
     ]
    }
   ],
   "source": [
    "print ('El Porcentaje de tiros de campo exitosos {:.2f}.'.format(m))\n",
    "print ('El Porcentaje de  objetivos de campo de éxito{:.2f}.'.format(b))\n",
    "print ('El Mejor ajuste de Regresión Simple es {:.2f}x {:.2f}.+ '.format(m,b))"
   ]
  },
  {
   "cell_type": "code",
   "execution_count": 18,
   "metadata": {
    "collapsed": false
   },
   "outputs": [
   ],
   "source": [
    "y_mean = y.mean()\n",
    "x_mean = x.mean()"
   ]
  },
  {
   "cell_type": "code",
   "execution_count": 21,
   "metadata": {
    "collapsed": false
   },
   "outputs": [
    {
     "data": {
      "text/plain": [
       "<matplotlib.legend.Legend at 0x7fba1ee034a8>"
      ]
     },
     "execution_count": 21,
     "metadata": {
     },
     "output_type": "execute_result"
    },
    {
     "data": {
      "image/png": "[encoded data removed]",
      "text/plain": [
       "<Figure size 1440x720 with 1 Axes>"
      ]
     },
     "execution_count": 21,
     "metadata": {
      "image/png": {
       "height": 760,
       "width": 2207
      }
     },
     "output_type": "execute_result"
    }
   ],
   "source": [
    "%matplotlib inline\n",
    "plt.figure(figsize=(20,10))\n",
    "plt.plot(x,y, 'o', markersize = 14, label = \"Valor medio por height\")\n",
    "plt.plot(x_mean,y_mean, '*', markersize = 30, color = \"r\")\n",
    "plt.plot(x, m*x + b, '-', label = 'Regresión lineal', linewidth = 4)\n",
    "plt.ylabel('tiros de campo exitosos', fontsize = 30)\n",
    "plt.xlabel('objetivos de campo de éxito', fontsize = 30)\n",
    "plt.xticks(fontsize = 20)\n",
    "plt.yticks(fontsize = 20)\n",
    "plt.annotate('Centroid', xy=(x_mean-0.1, y_mean-5), xytext=(x_mean-3, y_mean-20), arrowprops=dict(facecolor='black', shrink=0.05), fontsize = 30)\n",
    "plt.legend(loc = 'upper right', fontsize = 20)"
   ]
  },
  {
   "cell_type": "code",
   "execution_count": 24,
   "metadata": {
    "collapsed": false
   },
   "outputs": [
   ],
   "source": [
    "def predict(query):\n",
    "    if query >= 1:\n",
    "        predict = m* query +b\n",
    "        return predict\n",
    "    else:\n",
    "        print(\"Debe tener por lo menos un tiro de campo exitoso\")"
   ]
  },
  {
   "cell_type": "code",
   "execution_count": 25,
   "metadata": {
    "collapsed": false
   },
   "outputs": [
    {
     "data": {
      "text/plain": [
       "13.196557102324576"
      ]
     },
     "execution_count": 25,
     "metadata": {
     },
     "output_type": "execute_result"
    }
   ],
   "source": [
    "predict(5)"
   ]
  },
  {
   "cell_type": "code",
   "execution_count": 6,
   "metadata": {
    "collapsed": false
   },
   "outputs": [
    {
     "name": "stdout",
     "output_type": "stream",
     "text": [
      "<class 'pandas.core.frame.DataFrame'>\n",
      "RangeIndex: 54 entries, 0 to 53\n",
      "Data columns (total 5 columns):\n",
      "height                 54 non-null float64\n",
      "weight                 54 non-null int64\n",
      "success_field_goals    54 non-null float64\n",
      "success_free_throws    54 non-null float64\n",
      "avg_points_scored      54 non-null float64\n",
      "dtypes: float64(4), int64(1)\n",
      "memory usage: 2.2 KB\n"
     ]
    }
   ],
   "source": [
    "training.info()"
   ]
  },
  {
   "cell_type": "code",
   "execution_count": 7,
   "metadata": {
    "collapsed": false
   },
   "outputs": [
    {
     "data": {
      "text/html": [
       "<div>\n",
       "<style scoped>\n",
       "    .dataframe tbody tr th:only-of-type {\n",
       "        vertical-align: middle;\n",
       "    }\n",
       "\n",
       "    .dataframe tbody tr th {\n",
       "        vertical-align: top;\n",
       "    }\n",
       "\n",
       "    .dataframe thead th {\n",
       "        text-align: right;\n",
       "    }\n",
       "</style>\n",
       "<table border=\"1\" class=\"dataframe\">\n",
       "  <thead>\n",
       "    <tr style=\"text-align: right;\">\n",
       "      <th></th>\n",
       "      <th>height</th>\n",
       "      <th>weight</th>\n",
       "      <th>success_field_goals</th>\n",
       "      <th>success_free_throws</th>\n",
       "      <th>avg_points_scored</th>\n",
       "    </tr>\n",
       "  </thead>\n",
       "  <tbody>\n",
       "    <tr>\n",
       "      <th>0</th>\n",
       "      <td>6.8</td>\n",
       "      <td>225</td>\n",
       "      <td>0.442</td>\n",
       "      <td>0.672</td>\n",
       "      <td>9.2</td>\n",
       "    </tr>\n",
       "    <tr>\n",
       "      <th>1</th>\n",
       "      <td>6.3</td>\n",
       "      <td>180</td>\n",
       "      <td>0.435</td>\n",
       "      <td>0.797</td>\n",
       "      <td>11.7</td>\n",
       "    </tr>\n",
       "    <tr>\n",
       "      <th>2</th>\n",
       "      <td>6.4</td>\n",
       "      <td>190</td>\n",
       "      <td>0.456</td>\n",
       "      <td>0.761</td>\n",
       "      <td>15.8</td>\n",
       "    </tr>\n",
       "    <tr>\n",
       "      <th>3</th>\n",
       "      <td>6.2</td>\n",
       "      <td>180</td>\n",
       "      <td>0.416</td>\n",
       "      <td>0.651</td>\n",
       "      <td>8.6</td>\n",
       "    </tr>\n",
       "    <tr>\n",
       "      <th>4</th>\n",
       "      <td>6.9</td>\n",
       "      <td>205</td>\n",
       "      <td>0.449</td>\n",
       "      <td>0.900</td>\n",
       "      <td>23.2</td>\n",
       "    </tr>\n",
       "  </tbody>\n",
       "</table>\n",
       "</div>"
      ],
      "text/plain": [
       "   height  weight  success_field_goals  success_free_throws  avg_points_scored\n",
       "0     6.8     225                0.442                0.672                9.2\n",
       "1     6.3     180                0.435                0.797               11.7\n",
       "2     6.4     190                0.456                0.761               15.8\n",
       "3     6.2     180                0.416                0.651                8.6\n",
       "4     6.9     205                0.449                0.900               23.2"
      ]
     },
     "execution_count": 7,
     "metadata": {
     },
     "output_type": "execute_result"
    }
   ],
   "source": [
    "training.head()"
   ]
  },
  {
   "cell_type": "code",
   "execution_count": 8,
   "metadata": {
    "collapsed": false
   },
   "outputs": [
   ],
   "source": [
    "missing_values_count = training.isnull().sum()"
   ]
  },
  {
   "cell_type": "code",
   "execution_count": 9,
   "metadata": {
    "collapsed": false
   },
   "outputs": [
    {
     "data": {
      "text/plain": [
       "height                 0\n",
       "weight                 0\n",
       "success_field_goals    0\n",
       "success_free_throws    0\n",
       "avg_points_scored      0\n",
       "dtype: int64"
      ]
     },
     "execution_count": 9,
     "metadata": {
     },
     "output_type": "execute_result"
    }
   ],
   "source": [
    "missing_values_count[0:15]"
   ]
  },
  {
   "cell_type": "code",
   "execution_count": 12,
   "metadata": {
    "collapsed": false
   },
   "outputs": [
   ],
   "source": [
    "training[\"weight\"].fillna(training[\"weight\"].mean(), inplace=True)"
   ]
  },
  {
   "cell_type": "code",
   "execution_count": 11,
   "metadata": {
    "collapsed": false
   },
   "outputs": [
    {
     "data": {
      "text/plain": [
       "209.90740740740742"
      ]
     },
     "execution_count": 11,
     "metadata": {
     },
     "output_type": "execute_result"
    }
   ],
   "source": [
    "training[\"weight\"].mean()"
   ]
  },
  {
   "cell_type": "code",
   "execution_count": 13,
   "metadata": {
    "collapsed": false
   },
   "outputs": [
    {
     "data": {
      "text/html": [
       "<div>\n",
       "<style scoped>\n",
       "    .dataframe tbody tr th:only-of-type {\n",
       "        vertical-align: middle;\n",
       "    }\n",
       "\n",
       "    .dataframe tbody tr th {\n",
       "        vertical-align: top;\n",
       "    }\n",
       "\n",
       "    .dataframe thead th {\n",
       "        text-align: right;\n",
       "    }\n",
       "</style>\n",
       "<table border=\"1\" class=\"dataframe\">\n",
       "  <thead>\n",
       "    <tr style=\"text-align: right;\">\n",
       "      <th></th>\n",
       "      <th>height</th>\n",
       "      <th>weight</th>\n",
       "      <th>success_field_goals</th>\n",
       "      <th>success_free_throws</th>\n",
       "      <th>avg_points_scored</th>\n",
       "    </tr>\n",
       "  </thead>\n",
       "  <tbody>\n",
       "    <tr>\n",
       "      <th>count</th>\n",
       "      <td>54.000000</td>\n",
       "      <td>54.000000</td>\n",
       "      <td>54.000000</td>\n",
       "      <td>54.000000</td>\n",
       "      <td>54.000000</td>\n",
       "    </tr>\n",
       "    <tr>\n",
       "      <th>mean</th>\n",
       "      <td>6.587037</td>\n",
       "      <td>209.907407</td>\n",
       "      <td>0.449111</td>\n",
       "      <td>0.741852</td>\n",
       "      <td>11.790741</td>\n",
       "    </tr>\n",
       "    <tr>\n",
       "      <th>std</th>\n",
       "      <td>0.458894</td>\n",
       "      <td>30.265036</td>\n",
       "      <td>0.056551</td>\n",
       "      <td>0.100146</td>\n",
       "      <td>5.899257</td>\n",
       "    </tr>\n",
       "    <tr>\n",
       "      <th>min</th>\n",
       "      <td>5.700000</td>\n",
       "      <td>105.000000</td>\n",
       "      <td>0.291000</td>\n",
       "      <td>0.244000</td>\n",
       "      <td>2.800000</td>\n",
       "    </tr>\n",
       "    <tr>\n",
       "      <th>25%</th>\n",
       "      <td>6.225000</td>\n",
       "      <td>185.000000</td>\n",
       "      <td>0.415250</td>\n",
       "      <td>0.713000</td>\n",
       "      <td>8.150000</td>\n",
       "    </tr>\n",
       "    <tr>\n",
       "      <th>50%</th>\n",
       "      <td>6.650000</td>\n",
       "      <td>212.500000</td>\n",
       "      <td>0.443500</td>\n",
       "      <td>0.753500</td>\n",
       "      <td>10.750000</td>\n",
       "    </tr>\n",
       "    <tr>\n",
       "      <th>75%</th>\n",
       "      <td>6.900000</td>\n",
       "      <td>235.000000</td>\n",
       "      <td>0.483500</td>\n",
       "      <td>0.795250</td>\n",
       "      <td>13.600000</td>\n",
       "    </tr>\n",
       "    <tr>\n",
       "      <th>max</th>\n",
       "      <td>7.600000</td>\n",
       "      <td>263.000000</td>\n",
       "      <td>0.599000</td>\n",
       "      <td>0.900000</td>\n",
       "      <td>27.400000</td>\n",
       "    </tr>\n",
       "  </tbody>\n",
       "</table>\n",
       "</div>"
      ],
      "text/plain": [
       "          height      weight  success_field_goals  success_free_throws  \\\n",
       "count  54.000000   54.000000            54.000000            54.000000   \n",
       "mean    6.587037  209.907407             0.449111             0.741852   \n",
       "std     0.458894   30.265036             0.056551             0.100146   \n",
       "min     5.700000  105.000000             0.291000             0.244000   \n",
       "25%     6.225000  185.000000             0.415250             0.713000   \n",
       "50%     6.650000  212.500000             0.443500             0.753500   \n",
       "75%     6.900000  235.000000             0.483500             0.795250   \n",
       "max     7.600000  263.000000             0.599000             0.900000   \n",
       "\n",
       "       avg_points_scored  \n",
       "count          54.000000  \n",
       "mean           11.790741  \n",
       "std             5.899257  \n",
       "min             2.800000  \n",
       "25%             8.150000  \n",
       "50%            10.750000  \n",
       "75%            13.600000  \n",
       "max            27.400000  "
      ]
     },
     "execution_count": 13,
     "metadata": {
     },
     "output_type": "execute_result"
    }
   ],
   "source": [
    "training.describe()"
   ]
  },
  {
   "cell_type": "code",
   "execution_count": 14,
   "metadata": {
    "collapsed": false
   },
   "outputs": [
    {
     "data": {
      "text/plain": [
       "height                 0\n",
       "weight                 0\n",
       "success_field_goals    0\n",
       "success_free_throws    0\n",
       "avg_points_scored      0\n",
       "dtype: int64"
      ]
     },
     "execution_count": 14,
     "metadata": {
     },
     "output_type": "execute_result"
    }
   ],
   "source": [
    "missing_values_count[0:15]"
   ]
  },
  {
   "cell_type": "code",
   "execution_count": 15,
   "metadata": {
    "collapsed": false
   },
   "outputs": [
    {
     "data": {
      "text/plain": [
       "209.90740740740742"
      ]
     },
     "execution_count": 15,
     "metadata": {
     },
     "output_type": "execute_result"
    }
   ],
   "source": [
    "training[\"weight\"].mean()"
   ]
  },
  {
   "cell_type": "code",
   "execution_count": 18,
   "metadata": {
    "collapsed": false
   },
   "outputs": [
   ],
   "source": [
    "training = training.dropna()"
   ]
  },
  {
   "cell_type": "code",
   "execution_count": 19,
   "metadata": {
    "collapsed": false
   },
   "outputs": [
    {
     "name": "stdout",
     "output_type": "stream",
     "text": [
      "<class 'pandas.core.frame.DataFrame'>\n",
      "Int64Index: 54 entries, 0 to 53\n",
      "Data columns (total 5 columns):\n",
      "height                 54 non-null float64\n",
      "weight                 54 non-null int64\n",
      "success_field_goals    54 non-null float64\n",
      "success_free_throws    54 non-null float64\n",
      "avg_points_scored      54 non-null float64\n",
      "dtypes: float64(4), int64(1)\n",
      "memory usage: 2.5 KB\n"
     ]
    }
   ],
   "source": [
    "training.info()"
   ]
  },
  {
   "cell_type": "code",
   "execution_count": 23,
   "metadata": {
    "collapsed": false
   },
   "outputs": [
   ],
   "source": [
    "y = training[\"weight\"]"
   ]
  },
  {
   "cell_type": "code",
   "execution_count": 0,
   "metadata": {
    "collapsed": false
   },
   "outputs": [
   ],
   "source": [
   ]
  },
  {
   "cell_type": "code",
   "execution_count": 24,
   "metadata": {
    "collapsed": false
   },
   "outputs": [
   ],
   "source": [
    "bins = [0,8,15,18,25,40,60,100]\n",
    "names = ['1','2','3','4','5','6','7']\n",
    "training[\"weight\"] = pd.cut(training[\"weight\"], bins, labels = names)"
   ]
  },
  {
   "cell_type": "code",
   "execution_count": 25,
   "metadata": {
    "collapsed": false
   },
   "outputs": [
   ],
   "source": [
    "x_input= training.drop(['weight'], axis=1)"
   ]
  },
  {
   "cell_type": "code",
   "execution_count": 26,
   "metadata": {
    "collapsed": false
   },
   "outputs": [
    {
     "data": {
      "text/html": [
       "<div>\n",
       "<style scoped>\n",
       "    .dataframe tbody tr th:only-of-type {\n",
       "        vertical-align: middle;\n",
       "    }\n",
       "\n",
       "    .dataframe tbody tr th {\n",
       "        vertical-align: top;\n",
       "    }\n",
       "\n",
       "    .dataframe thead th {\n",
       "        text-align: right;\n",
       "    }\n",
       "</style>\n",
       "<table border=\"1\" class=\"dataframe\">\n",
       "  <thead>\n",
       "    <tr style=\"text-align: right;\">\n",
       "      <th></th>\n",
       "      <th>height</th>\n",
       "      <th>success_field_goals</th>\n",
       "      <th>success_free_throws</th>\n",
       "      <th>avg_points_scored</th>\n",
       "    </tr>\n",
       "  </thead>\n",
       "  <tbody>\n",
       "    <tr>\n",
       "      <th>0</th>\n",
       "      <td>6.8</td>\n",
       "      <td>0.442</td>\n",
       "      <td>0.672</td>\n",
       "      <td>9.2</td>\n",
       "    </tr>\n",
       "    <tr>\n",
       "      <th>1</th>\n",
       "      <td>6.3</td>\n",
       "      <td>0.435</td>\n",
       "      <td>0.797</td>\n",
       "      <td>11.7</td>\n",
       "    </tr>\n",
       "    <tr>\n",
       "      <th>2</th>\n",
       "      <td>6.4</td>\n",
       "      <td>0.456</td>\n",
       "      <td>0.761</td>\n",
       "      <td>15.8</td>\n",
       "    </tr>\n",
       "    <tr>\n",
       "      <th>3</th>\n",
       "      <td>6.2</td>\n",
       "      <td>0.416</td>\n",
       "      <td>0.651</td>\n",
       "      <td>8.6</td>\n",
       "    </tr>\n",
       "    <tr>\n",
       "      <th>4</th>\n",
       "      <td>6.9</td>\n",
       "      <td>0.449</td>\n",
       "      <td>0.900</td>\n",
       "      <td>23.2</td>\n",
       "    </tr>\n",
       "  </tbody>\n",
       "</table>\n",
       "</div>"
      ],
      "text/plain": [
       "   height  success_field_goals  success_free_throws  avg_points_scored\n",
       "0     6.8                0.442                0.672                9.2\n",
       "1     6.3                0.435                0.797               11.7\n",
       "2     6.4                0.456                0.761               15.8\n",
       "3     6.2                0.416                0.651                8.6\n",
       "4     6.9                0.449                0.900               23.2"
      ]
     },
     "execution_count": 26,
     "metadata": {
     },
     "output_type": "execute_result"
    }
   ],
   "source": [
    "x_input.head()"
   ]
  },
  {
   "cell_type": "code",
   "execution_count": 43,
   "metadata": {
    "collapsed": false
   },
   "outputs": [
   ],
   "source": [
    "from sklearn.model_selection import train_test_split\n",
    "x_train, x_test, y_train, y_test= train_test_split(x_input,y, test_size=0.30)"
   ]
  },
  {
   "cell_type": "code",
   "execution_count": 47,
   "metadata": {
    "collapsed": false,
    "scrolled": true
   },
   "outputs": [
    {
     "name": "stderr",
     "output_type": "stream",
     "text": [
      "/usr/local/lib/python3.6/dist-packages/sklearn/linear_model/logistic.py:432: FutureWarning: Default solver will be changed to 'lbfgs' in 0.22. Specify a solver to silence this warning.\n",
      "  FutureWarning)\n",
      "/usr/local/lib/python3.6/dist-packages/sklearn/linear_model/logistic.py:469: FutureWarning: Default multi_class will be changed to 'auto' in 0.22. Specify the multi_class option to silence this warning.\n",
      "  \"this warning.\", FutureWarning)\n"
     ]
    },
    {
     "data": {
      "text/plain": [
       "LogisticRegression(C=1.0, class_weight=None, dual=False, fit_intercept=True,\n",
       "                   intercept_scaling=1, l1_ratio=None, max_iter=100,\n",
       "                   multi_class='warn', n_jobs=None, penalty='l2',\n",
       "                   random_state=None, solver='warn', tol=0.0001, verbose=0,\n",
       "                   warm_start=False)"
      ]
     },
     "execution_count": 47,
     "metadata": {
     },
     "output_type": "execute_result"
    }
   ],
   "source": [
    "from sklearn.linear_model import LogisticRegression\n",
    "model = LogisticRegression()\n",
    "\n",
    "model.fit(x_train, y_train)"
   ]
  },
  {
   "cell_type": "code",
   "execution_count": 0,
   "metadata": {
    "collapsed": false
   },
   "outputs": [
   ],
   "source": [
   ]
  },
  {
   "cell_type": "code",
   "execution_count": 51,
   "metadata": {
    "collapsed": false
   },
   "outputs": [
    {
     "data": {
      "text/plain": [
       "array([185, 185, 245, 185, 180, 245, 185, 245, 245, 180, 185, 185, 185,\n",
       "       180, 180, 185, 180, 245, 210, 185, 180, 185, 185, 185, 185, 185,\n",
       "       180, 180, 180, 185, 245, 185, 245, 245, 245, 185, 180])"
      ]
     },
     "execution_count": 51,
     "metadata": {
     },
     "output_type": "execute_result"
    }
   ],
   "source": [
    "predictions1 = model.predict(x_train)\n",
    "predictions1"
   ]
  },
  {
   "cell_type": "code",
   "execution_count": 55,
   "metadata": {
    "collapsed": false
   },
   "outputs": [
    {
     "data": {
      "text/plain": [
       "0.24324324324324326"
      ]
     },
     "execution_count": 55,
     "metadata": {
     },
     "output_type": "execute_result"
    }
   ],
   "source": [
    "model.score(x_train, y_train)"
   ]
  },
  {
   "cell_type": "code",
   "execution_count": 0,
   "metadata": {
    "collapsed": false
   },
   "outputs": [
   ],
   "source": [
   ]
  }
 ],
 "metadata": {
  "kernelspec": {
   "display_name": "Python 3 (system-wide)",
   "language": "python",
   "metadata": {
    "cocalc": {
     "description": "Python 3 programming language",
     "priority": 100,
     "url": "https://www.python.org/"
    }
   },
   "name": "python3"
  },
  "language_info": {
   "codemirror_mode": {
    "name": "ipython",
    "version": 3
   },
   "file_extension": ".py",
   "mimetype": "text/x-python",
   "name": "python",
   "nbconvert_exporter": "python",
   "pygments_lexer": "ipython3",
   "version": "3.6.8"
  }
 },
 "nbformat": 4,
 "nbformat_minor": 0
}